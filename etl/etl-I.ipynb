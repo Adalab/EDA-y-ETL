{
 "cells": [
  {
   "cell_type": "code",
   "execution_count": 41,
   "metadata": {},
   "outputs": [],
   "source": [
    "import requests\n",
    "import pandas as pd\n",
    "import numpy as np\n",
    "import pyjsonviewer\n",
    "\n",
    "from datetime import datetime, timedelta"
   ]
  },
  {
   "attachments": {},
   "cell_type": "markdown",
   "metadata": {},
   "source": [
    "# Pair Programming ETL I\n",
    "\n",
    "1. Nuestros jefes están especialmente interesados en los datos de generación de las energías renovables y no renovables a nivel nacional. En concreto, nos piden sacar toda la información para las fechas de 1 de Enero del 2011 hasta el 31 de Diciembre del 2022. De toda la información que tenemos de generación queremos la evolucion de renovable y no renovable. Además deberemos incluir una columna nueva identificando si el dato corresponde a energía renovable o no renovable. NOTA: nos piden que el código debe estar en una función."
   ]
  },
  {
   "attachments": {},
   "cell_type": "markdown",
   "metadata": {},
   "source": [
    "generacion y evolución"
   ]
  },
  {
   "attachments": {},
   "cell_type": "markdown",
   "metadata": {},
   "source": [
    "llamada a la api de junio en español"
   ]
  },
  {
   "cell_type": "code",
   "execution_count": 3,
   "metadata": {},
   "outputs": [],
   "source": [
    "url = 'https://apidatos.ree.es/es/datos/balance/balance-electrico?start_date=2019-01-01T00:00&end_date=2019-01-31T23:59&time_trunc=day'"
   ]
  },
  {
   "cell_type": "code",
   "execution_count": 4,
   "metadata": {},
   "outputs": [],
   "source": [
    "res = requests.get(url)"
   ]
  },
  {
   "cell_type": "code",
   "execution_count": 5,
   "metadata": {},
   "outputs": [
    {
     "data": {
      "text/plain": [
       "200"
      ]
     },
     "execution_count": 5,
     "metadata": {},
     "output_type": "execute_result"
    }
   ],
   "source": [
    "res.status_code"
   ]
  },
  {
   "cell_type": "code",
   "execution_count": 7,
   "metadata": {},
   "outputs": [
    {
     "data": {
      "text/plain": [
       "'OK'"
      ]
     },
     "execution_count": 7,
     "metadata": {},
     "output_type": "execute_result"
    }
   ],
   "source": [
    "res.reason"
   ]
  },
  {
   "cell_type": "code",
   "execution_count": 9,
   "metadata": {},
   "outputs": [],
   "source": [
    "response_json = res.json()"
   ]
  },
  {
   "cell_type": "code",
   "execution_count": 10,
   "metadata": {},
   "outputs": [
    {
     "data": {
      "text/plain": [
       "dict_keys(['data', 'included'])"
      ]
     },
     "execution_count": 10,
     "metadata": {},
     "output_type": "execute_result"
    }
   ],
   "source": [
    "response_json.keys()"
   ]
  },
  {
   "cell_type": "code",
   "execution_count": 11,
   "metadata": {},
   "outputs": [
    {
     "data": {
      "text/plain": [
       "{'type': 'Balance de energía eléctrica',\n",
       " 'id': 'bal1',\n",
       " 'attributes': {'title': 'Balance de energía eléctrica',\n",
       "  'last-update': '2020-01-10T08:15:41.000+01:00',\n",
       "  'description': 'Balance eléctrico: asignación de unidades de producción según combustible principal. La producción neta de las instalaciones no renovables e hidráulicas UGH tiene descontados los consumos propios de las instalaciones. En dichos tipos de producción una generación negativa indica que la electricidad horaria consumida para los usos de las plantas excede la producción horaria de las instalaciones.'},\n",
       " 'meta': {'cache-control': {'cache': 'MISS'}}}"
      ]
     },
     "execution_count": 11,
     "metadata": {},
     "output_type": "execute_result"
    }
   ],
   "source": [
    "response_json['data']"
   ]
  },
  {
   "cell_type": "code",
   "execution_count": 15,
   "metadata": {},
   "outputs": [
    {
     "data": {
      "text/plain": [
       "dict_keys(['type', 'id', 'attributes'])"
      ]
     },
     "execution_count": 15,
     "metadata": {},
     "output_type": "execute_result"
    }
   ],
   "source": [
    "response_json['included'][0].keys()"
   ]
  },
  {
   "cell_type": "code",
   "execution_count": 18,
   "metadata": {},
   "outputs": [
    {
     "data": {
      "text/plain": [
       "dict_keys(['title', 'last-update', 'description', 'magnitude', 'content'])"
      ]
     },
     "execution_count": 18,
     "metadata": {},
     "output_type": "execute_result"
    }
   ],
   "source": [
    "response_json['included'][0]['attributes'].keys()"
   ]
  },
  {
   "cell_type": "code",
   "execution_count": 23,
   "metadata": {},
   "outputs": [
    {
     "data": {
      "text/html": [
       "<div>\n",
       "<style scoped>\n",
       "    .dataframe tbody tr th:only-of-type {\n",
       "        vertical-align: middle;\n",
       "    }\n",
       "\n",
       "    .dataframe tbody tr th {\n",
       "        vertical-align: top;\n",
       "    }\n",
       "\n",
       "    .dataframe thead th {\n",
       "        text-align: right;\n",
       "    }\n",
       "</style>\n",
       "<table border=\"1\" class=\"dataframe\">\n",
       "  <thead>\n",
       "    <tr style=\"text-align: right;\">\n",
       "      <th></th>\n",
       "      <th>value</th>\n",
       "      <th>percentage</th>\n",
       "      <th>datetime</th>\n",
       "    </tr>\n",
       "  </thead>\n",
       "  <tbody>\n",
       "    <tr>\n",
       "      <th>0</th>\n",
       "      <td>53722.120</td>\n",
       "      <td>0.317222</td>\n",
       "      <td>2019-01-01T00:00:00.000+01:00</td>\n",
       "    </tr>\n",
       "    <tr>\n",
       "      <th>1</th>\n",
       "      <td>61294.768</td>\n",
       "      <td>0.208275</td>\n",
       "      <td>2019-01-02T00:00:00.000+01:00</td>\n",
       "    </tr>\n",
       "    <tr>\n",
       "      <th>2</th>\n",
       "      <td>82981.951</td>\n",
       "      <td>0.362276</td>\n",
       "      <td>2019-01-03T00:00:00.000+01:00</td>\n",
       "    </tr>\n",
       "    <tr>\n",
       "      <th>3</th>\n",
       "      <td>94301.940</td>\n",
       "      <td>0.448253</td>\n",
       "      <td>2019-01-04T00:00:00.000+01:00</td>\n",
       "    </tr>\n",
       "    <tr>\n",
       "      <th>4</th>\n",
       "      <td>58822.692</td>\n",
       "      <td>0.274651</td>\n",
       "      <td>2019-01-05T00:00:00.000+01:00</td>\n",
       "    </tr>\n",
       "    <tr>\n",
       "      <th>5</th>\n",
       "      <td>42064.747</td>\n",
       "      <td>0.171062</td>\n",
       "      <td>2019-01-06T00:00:00.000+01:00</td>\n",
       "    </tr>\n",
       "    <tr>\n",
       "      <th>6</th>\n",
       "      <td>66708.373</td>\n",
       "      <td>0.248333</td>\n",
       "      <td>2019-01-07T00:00:00.000+01:00</td>\n",
       "    </tr>\n",
       "    <tr>\n",
       "      <th>7</th>\n",
       "      <td>68044.833</td>\n",
       "      <td>0.249237</td>\n",
       "      <td>2019-01-08T00:00:00.000+01:00</td>\n",
       "    </tr>\n",
       "    <tr>\n",
       "      <th>8</th>\n",
       "      <td>48716.673</td>\n",
       "      <td>0.143292</td>\n",
       "      <td>2019-01-09T00:00:00.000+01:00</td>\n",
       "    </tr>\n",
       "    <tr>\n",
       "      <th>9</th>\n",
       "      <td>62288.159</td>\n",
       "      <td>0.171462</td>\n",
       "      <td>2019-01-10T00:00:00.000+01:00</td>\n",
       "    </tr>\n",
       "    <tr>\n",
       "      <th>10</th>\n",
       "      <td>64303.769</td>\n",
       "      <td>0.194580</td>\n",
       "      <td>2019-01-11T00:00:00.000+01:00</td>\n",
       "    </tr>\n",
       "    <tr>\n",
       "      <th>11</th>\n",
       "      <td>36415.318</td>\n",
       "      <td>0.131814</td>\n",
       "      <td>2019-01-12T00:00:00.000+01:00</td>\n",
       "    </tr>\n",
       "    <tr>\n",
       "      <th>12</th>\n",
       "      <td>42369.957</td>\n",
       "      <td>0.157608</td>\n",
       "      <td>2019-01-13T00:00:00.000+01:00</td>\n",
       "    </tr>\n",
       "    <tr>\n",
       "      <th>13</th>\n",
       "      <td>53598.566</td>\n",
       "      <td>0.194391</td>\n",
       "      <td>2019-01-14T00:00:00.000+01:00</td>\n",
       "    </tr>\n",
       "    <tr>\n",
       "      <th>14</th>\n",
       "      <td>81267.421</td>\n",
       "      <td>0.469799</td>\n",
       "      <td>2019-01-15T00:00:00.000+01:00</td>\n",
       "    </tr>\n",
       "    <tr>\n",
       "      <th>15</th>\n",
       "      <td>82944.481</td>\n",
       "      <td>0.464633</td>\n",
       "      <td>2019-01-16T00:00:00.000+01:00</td>\n",
       "    </tr>\n",
       "    <tr>\n",
       "      <th>16</th>\n",
       "      <td>72981.884</td>\n",
       "      <td>0.401562</td>\n",
       "      <td>2019-01-17T00:00:00.000+01:00</td>\n",
       "    </tr>\n",
       "    <tr>\n",
       "      <th>17</th>\n",
       "      <td>101622.441</td>\n",
       "      <td>0.490570</td>\n",
       "      <td>2019-01-18T00:00:00.000+01:00</td>\n",
       "    </tr>\n",
       "    <tr>\n",
       "      <th>18</th>\n",
       "      <td>69273.204</td>\n",
       "      <td>0.297408</td>\n",
       "      <td>2019-01-19T00:00:00.000+01:00</td>\n",
       "    </tr>\n",
       "    <tr>\n",
       "      <th>19</th>\n",
       "      <td>47734.816</td>\n",
       "      <td>0.169335</td>\n",
       "      <td>2019-01-20T00:00:00.000+01:00</td>\n",
       "    </tr>\n",
       "    <tr>\n",
       "      <th>20</th>\n",
       "      <td>91299.463</td>\n",
       "      <td>0.308810</td>\n",
       "      <td>2019-01-21T00:00:00.000+01:00</td>\n",
       "    </tr>\n",
       "    <tr>\n",
       "      <th>21</th>\n",
       "      <td>76301.055</td>\n",
       "      <td>0.218884</td>\n",
       "      <td>2019-01-22T00:00:00.000+01:00</td>\n",
       "    </tr>\n",
       "    <tr>\n",
       "      <th>22</th>\n",
       "      <td>64317.281</td>\n",
       "      <td>0.138068</td>\n",
       "      <td>2019-01-23T00:00:00.000+01:00</td>\n",
       "    </tr>\n",
       "    <tr>\n",
       "      <th>23</th>\n",
       "      <td>71281.067</td>\n",
       "      <td>0.178410</td>\n",
       "      <td>2019-01-24T00:00:00.000+01:00</td>\n",
       "    </tr>\n",
       "    <tr>\n",
       "      <th>24</th>\n",
       "      <td>76711.708</td>\n",
       "      <td>0.212731</td>\n",
       "      <td>2019-01-25T00:00:00.000+01:00</td>\n",
       "    </tr>\n",
       "    <tr>\n",
       "      <th>25</th>\n",
       "      <td>68907.867</td>\n",
       "      <td>0.297693</td>\n",
       "      <td>2019-01-26T00:00:00.000+01:00</td>\n",
       "    </tr>\n",
       "    <tr>\n",
       "      <th>26</th>\n",
       "      <td>54595.836</td>\n",
       "      <td>0.141486</td>\n",
       "      <td>2019-01-27T00:00:00.000+01:00</td>\n",
       "    </tr>\n",
       "    <tr>\n",
       "      <th>27</th>\n",
       "      <td>76405.736</td>\n",
       "      <td>0.178186</td>\n",
       "      <td>2019-01-28T00:00:00.000+01:00</td>\n",
       "    </tr>\n",
       "    <tr>\n",
       "      <th>28</th>\n",
       "      <td>78839.109</td>\n",
       "      <td>0.193553</td>\n",
       "      <td>2019-01-29T00:00:00.000+01:00</td>\n",
       "    </tr>\n",
       "    <tr>\n",
       "      <th>29</th>\n",
       "      <td>85928.214</td>\n",
       "      <td>0.219505</td>\n",
       "      <td>2019-01-30T00:00:00.000+01:00</td>\n",
       "    </tr>\n",
       "    <tr>\n",
       "      <th>30</th>\n",
       "      <td>91169.602</td>\n",
       "      <td>0.190948</td>\n",
       "      <td>2019-01-31T00:00:00.000+01:00</td>\n",
       "    </tr>\n",
       "  </tbody>\n",
       "</table>\n",
       "</div>"
      ],
      "text/plain": [
       "         value  percentage                       datetime\n",
       "0    53722.120    0.317222  2019-01-01T00:00:00.000+01:00\n",
       "1    61294.768    0.208275  2019-01-02T00:00:00.000+01:00\n",
       "2    82981.951    0.362276  2019-01-03T00:00:00.000+01:00\n",
       "3    94301.940    0.448253  2019-01-04T00:00:00.000+01:00\n",
       "4    58822.692    0.274651  2019-01-05T00:00:00.000+01:00\n",
       "5    42064.747    0.171062  2019-01-06T00:00:00.000+01:00\n",
       "6    66708.373    0.248333  2019-01-07T00:00:00.000+01:00\n",
       "7    68044.833    0.249237  2019-01-08T00:00:00.000+01:00\n",
       "8    48716.673    0.143292  2019-01-09T00:00:00.000+01:00\n",
       "9    62288.159    0.171462  2019-01-10T00:00:00.000+01:00\n",
       "10   64303.769    0.194580  2019-01-11T00:00:00.000+01:00\n",
       "11   36415.318    0.131814  2019-01-12T00:00:00.000+01:00\n",
       "12   42369.957    0.157608  2019-01-13T00:00:00.000+01:00\n",
       "13   53598.566    0.194391  2019-01-14T00:00:00.000+01:00\n",
       "14   81267.421    0.469799  2019-01-15T00:00:00.000+01:00\n",
       "15   82944.481    0.464633  2019-01-16T00:00:00.000+01:00\n",
       "16   72981.884    0.401562  2019-01-17T00:00:00.000+01:00\n",
       "17  101622.441    0.490570  2019-01-18T00:00:00.000+01:00\n",
       "18   69273.204    0.297408  2019-01-19T00:00:00.000+01:00\n",
       "19   47734.816    0.169335  2019-01-20T00:00:00.000+01:00\n",
       "20   91299.463    0.308810  2019-01-21T00:00:00.000+01:00\n",
       "21   76301.055    0.218884  2019-01-22T00:00:00.000+01:00\n",
       "22   64317.281    0.138068  2019-01-23T00:00:00.000+01:00\n",
       "23   71281.067    0.178410  2019-01-24T00:00:00.000+01:00\n",
       "24   76711.708    0.212731  2019-01-25T00:00:00.000+01:00\n",
       "25   68907.867    0.297693  2019-01-26T00:00:00.000+01:00\n",
       "26   54595.836    0.141486  2019-01-27T00:00:00.000+01:00\n",
       "27   76405.736    0.178186  2019-01-28T00:00:00.000+01:00\n",
       "28   78839.109    0.193553  2019-01-29T00:00:00.000+01:00\n",
       "29   85928.214    0.219505  2019-01-30T00:00:00.000+01:00\n",
       "30   91169.602    0.190948  2019-01-31T00:00:00.000+01:00"
      ]
     },
     "execution_count": 23,
     "metadata": {},
     "output_type": "execute_result"
    }
   ],
   "source": [
    "pd.DataFrame(response_json['included'][0]['attributes']['content'][0]['attributes']['values'])"
   ]
  },
  {
   "attachments": {},
   "cell_type": "markdown",
   "metadata": {},
   "source": [
    "AÑO 2011\n"
   ]
  },
  {
   "cell_type": "code",
   "execution_count": null,
   "metadata": {},
   "outputs": [],
   "source": [
    "https://apidatos.ree.es/es/datos/generacion/estructura-generacion?start_date=2014-01-01T00:00&end_date=2018-12-31T23:59&time_trunc=year&geo_trunc=electric_system&geo_limit=ccaa&geo_ids=7"
   ]
  },
  {
   "cell_type": "code",
   "execution_count": 45,
   "metadata": {},
   "outputs": [],
   "source": [
    "url2 = 'https://apidatos.ree.es/es/datos/generacion/evolucion-renovable-no-renovable?start_date=2011-01-01T00:00&end_date=2011-12-31T23:59&time_trunc=month&geo_trunc=electric_system&geo_limit=peninsular&geo_ids=8741'"
   ]
  },
  {
   "cell_type": "code",
   "execution_count": 46,
   "metadata": {},
   "outputs": [
    {
     "data": {
      "text/plain": [
       "<Response [200]>"
      ]
     },
     "execution_count": 46,
     "metadata": {},
     "output_type": "execute_result"
    }
   ],
   "source": [
    "res2 = requests.get(url2)\n",
    "res2"
   ]
  },
  {
   "cell_type": "code",
   "execution_count": 49,
   "metadata": {},
   "outputs": [
    {
     "data": {
      "text/plain": [
       "{'data': {'type': 'Evolución de la generación renovable/no renovable',\n",
       "  'id': 'gen2',\n",
       "  'attributes': {'title': 'Evolución de la generación renovable/no renovable',\n",
       "   'last-update': '2019-06-12T15:32:24.000+02:00',\n",
       "   'description': None},\n",
       "  'meta': {'cache-control': {'cache': 'MISS'}}},\n",
       " 'included': [{'type': 'Renovable',\n",
       "   'id': '10299',\n",
       "   'groupId': None,\n",
       "   'attributes': {'title': 'Renovable',\n",
       "    'description': 'Energía renovable: incluye hidráulica, hidroeólica, eólica, solar fotovoltaica, solar térmica, otras renovables y residuos renovables.',\n",
       "    'color': '#92d050',\n",
       "    'type': 'Renovable',\n",
       "    'magnitude': None,\n",
       "    'composite': False,\n",
       "    'last-update': '2019-06-12T15:32:24.000+02:00',\n",
       "    'values': [{'value': 9877373.4755,\n",
       "      'percentage': 0.4006432282405463,\n",
       "      'datetime': '2011-01-01T00:00:00.000+01:00'},\n",
       "     {'value': 7935272.0665,\n",
       "      'percentage': 0.36059734283490813,\n",
       "      'datetime': '2011-02-01T00:00:00.000+01:00'},\n",
       "     {'value': 9547139.3385,\n",
       "      'percentage': 0.4003424343633109,\n",
       "      'datetime': '2011-03-01T00:00:00.000+01:00'},\n",
       "     {'value': 8058827.1765,\n",
       "      'percentage': 0.39193160478360506,\n",
       "      'datetime': '2011-04-01T00:00:00.000+02:00'},\n",
       "     {'value': 7192162.8755,\n",
       "      'percentage': 0.3480617855360402,\n",
       "      'datetime': '2011-05-01T00:00:00.000+02:00'},\n",
       "     {'value': 6367810.0965,\n",
       "      'percentage': 0.29924771887569357,\n",
       "      'datetime': '2011-06-01T00:00:00.000+02:00'},\n",
       "     {'value': 6393820.0425,\n",
       "      'percentage': 0.2834159132521076,\n",
       "      'datetime': '2011-07-01T00:00:00.000+02:00'},\n",
       "     {'value': 5623991.56,\n",
       "      'percentage': 0.2567451745409532,\n",
       "      'datetime': '2011-08-01T00:00:00.000+02:00'},\n",
       "     {'value': 4855772.878,\n",
       "      'percentage': 0.22384409020444446,\n",
       "      'datetime': '2011-09-01T00:00:00.000+02:00'},\n",
       "     {'value': 5555985.352,\n",
       "      'percentage': 0.2648901732076498,\n",
       "      'datetime': '2011-10-01T00:00:00.000+02:00'},\n",
       "     {'value': 6777688.4315,\n",
       "      'percentage': 0.3153721445549566,\n",
       "      'datetime': '2011-11-01T00:00:00.000+01:00'},\n",
       "     {'value': 7647076.149,\n",
       "      'percentage': 0.3368958279242338,\n",
       "      'datetime': '2011-12-01T00:00:00.000+01:00'}]}},\n",
       "  {'type': 'No renovable',\n",
       "   'id': '10298',\n",
       "   'groupId': None,\n",
       "   'attributes': {'title': 'No renovable',\n",
       "    'description': None,\n",
       "    'color': '#666666',\n",
       "    'type': 'No renovable',\n",
       "    'magnitude': None,\n",
       "    'composite': False,\n",
       "    'last-update': '2019-06-12T15:32:24.000+02:00',\n",
       "    'values': [{'value': 14776415.1805,\n",
       "      'percentage': 0.5993567717594536,\n",
       "      'datetime': '2011-01-01T00:00:00.000+01:00'},\n",
       "     {'value': 14070636.2525,\n",
       "      'percentage': 0.6394026571650919,\n",
       "      'datetime': '2011-02-01T00:00:00.000+01:00'},\n",
       "     {'value': 14300293.5565,\n",
       "      'percentage': 0.599657565636689,\n",
       "      'datetime': '2011-03-01T00:00:00.000+01:00'},\n",
       "     {'value': 12502992.9935,\n",
       "      'percentage': 0.6080683952163949,\n",
       "      'datetime': '2011-04-01T00:00:00.000+02:00'},\n",
       "     {'value': 13471303.1365,\n",
       "      'percentage': 0.6519382144639598,\n",
       "      'datetime': '2011-05-01T00:00:00.000+02:00'},\n",
       "     {'value': 14911583.8465,\n",
       "      'percentage': 0.7007522811243064,\n",
       "      'datetime': '2011-06-01T00:00:00.000+02:00'},\n",
       "     {'value': 16166028.3765,\n",
       "      'percentage': 0.7165840867478924,\n",
       "      'datetime': '2011-07-01T00:00:00.000+02:00'},\n",
       "     {'value': 16280963.694,\n",
       "      'percentage': 0.7432548254590468,\n",
       "      'datetime': '2011-08-01T00:00:00.000+02:00'},\n",
       "     {'value': 16836883.263,\n",
       "      'percentage': 0.7761559097955556,\n",
       "      'datetime': '2011-09-01T00:00:00.000+02:00'},\n",
       "     {'value': 15418689.868,\n",
       "      'percentage': 0.7351098267923503,\n",
       "      'datetime': '2011-10-01T00:00:00.000+02:00'},\n",
       "     {'value': 14713392.9735,\n",
       "      'percentage': 0.6846278554450433,\n",
       "      'datetime': '2011-11-01T00:00:00.000+01:00'},\n",
       "     {'value': 15051560.982,\n",
       "      'percentage': 0.6631041720757662,\n",
       "      'datetime': '2011-12-01T00:00:00.000+01:00'}]}}]}"
      ]
     },
     "execution_count": 49,
     "metadata": {},
     "output_type": "execute_result"
    }
   ],
   "source": [
    "res2_json = res2.json()\n",
    "res2_json"
   ]
  },
  {
   "cell_type": "code",
   "execution_count": 57,
   "metadata": {},
   "outputs": [],
   "source": [
    "renovables_2011 = pd.DataFrame(res2_json['included'][0]['attributes']['values'])"
   ]
  },
  {
   "cell_type": "code",
   "execution_count": 58,
   "metadata": {},
   "outputs": [],
   "source": [
    "renovables_2011['tipo_energia'] = 'Renovable'"
   ]
  },
  {
   "cell_type": "code",
   "execution_count": 59,
   "metadata": {},
   "outputs": [
    {
     "data": {
      "text/html": [
       "<div>\n",
       "<style scoped>\n",
       "    .dataframe tbody tr th:only-of-type {\n",
       "        vertical-align: middle;\n",
       "    }\n",
       "\n",
       "    .dataframe tbody tr th {\n",
       "        vertical-align: top;\n",
       "    }\n",
       "\n",
       "    .dataframe thead th {\n",
       "        text-align: right;\n",
       "    }\n",
       "</style>\n",
       "<table border=\"1\" class=\"dataframe\">\n",
       "  <thead>\n",
       "    <tr style=\"text-align: right;\">\n",
       "      <th></th>\n",
       "      <th>value</th>\n",
       "      <th>percentage</th>\n",
       "      <th>datetime</th>\n",
       "      <th>tipo_energia</th>\n",
       "    </tr>\n",
       "  </thead>\n",
       "  <tbody>\n",
       "    <tr>\n",
       "      <th>0</th>\n",
       "      <td>9.877373e+06</td>\n",
       "      <td>0.400643</td>\n",
       "      <td>2011-01-01T00:00:00.000+01:00</td>\n",
       "      <td>Renovable</td>\n",
       "    </tr>\n",
       "    <tr>\n",
       "      <th>1</th>\n",
       "      <td>7.935272e+06</td>\n",
       "      <td>0.360597</td>\n",
       "      <td>2011-02-01T00:00:00.000+01:00</td>\n",
       "      <td>Renovable</td>\n",
       "    </tr>\n",
       "    <tr>\n",
       "      <th>2</th>\n",
       "      <td>9.547139e+06</td>\n",
       "      <td>0.400342</td>\n",
       "      <td>2011-03-01T00:00:00.000+01:00</td>\n",
       "      <td>Renovable</td>\n",
       "    </tr>\n",
       "    <tr>\n",
       "      <th>3</th>\n",
       "      <td>8.058827e+06</td>\n",
       "      <td>0.391932</td>\n",
       "      <td>2011-04-01T00:00:00.000+02:00</td>\n",
       "      <td>Renovable</td>\n",
       "    </tr>\n",
       "    <tr>\n",
       "      <th>4</th>\n",
       "      <td>7.192163e+06</td>\n",
       "      <td>0.348062</td>\n",
       "      <td>2011-05-01T00:00:00.000+02:00</td>\n",
       "      <td>Renovable</td>\n",
       "    </tr>\n",
       "    <tr>\n",
       "      <th>5</th>\n",
       "      <td>6.367810e+06</td>\n",
       "      <td>0.299248</td>\n",
       "      <td>2011-06-01T00:00:00.000+02:00</td>\n",
       "      <td>Renovable</td>\n",
       "    </tr>\n",
       "    <tr>\n",
       "      <th>6</th>\n",
       "      <td>6.393820e+06</td>\n",
       "      <td>0.283416</td>\n",
       "      <td>2011-07-01T00:00:00.000+02:00</td>\n",
       "      <td>Renovable</td>\n",
       "    </tr>\n",
       "    <tr>\n",
       "      <th>7</th>\n",
       "      <td>5.623992e+06</td>\n",
       "      <td>0.256745</td>\n",
       "      <td>2011-08-01T00:00:00.000+02:00</td>\n",
       "      <td>Renovable</td>\n",
       "    </tr>\n",
       "    <tr>\n",
       "      <th>8</th>\n",
       "      <td>4.855773e+06</td>\n",
       "      <td>0.223844</td>\n",
       "      <td>2011-09-01T00:00:00.000+02:00</td>\n",
       "      <td>Renovable</td>\n",
       "    </tr>\n",
       "    <tr>\n",
       "      <th>9</th>\n",
       "      <td>5.555985e+06</td>\n",
       "      <td>0.264890</td>\n",
       "      <td>2011-10-01T00:00:00.000+02:00</td>\n",
       "      <td>Renovable</td>\n",
       "    </tr>\n",
       "    <tr>\n",
       "      <th>10</th>\n",
       "      <td>6.777688e+06</td>\n",
       "      <td>0.315372</td>\n",
       "      <td>2011-11-01T00:00:00.000+01:00</td>\n",
       "      <td>Renovable</td>\n",
       "    </tr>\n",
       "    <tr>\n",
       "      <th>11</th>\n",
       "      <td>7.647076e+06</td>\n",
       "      <td>0.336896</td>\n",
       "      <td>2011-12-01T00:00:00.000+01:00</td>\n",
       "      <td>Renovable</td>\n",
       "    </tr>\n",
       "  </tbody>\n",
       "</table>\n",
       "</div>"
      ],
      "text/plain": [
       "           value  percentage                       datetime tipo_energia\n",
       "0   9.877373e+06    0.400643  2011-01-01T00:00:00.000+01:00    Renovable\n",
       "1   7.935272e+06    0.360597  2011-02-01T00:00:00.000+01:00    Renovable\n",
       "2   9.547139e+06    0.400342  2011-03-01T00:00:00.000+01:00    Renovable\n",
       "3   8.058827e+06    0.391932  2011-04-01T00:00:00.000+02:00    Renovable\n",
       "4   7.192163e+06    0.348062  2011-05-01T00:00:00.000+02:00    Renovable\n",
       "5   6.367810e+06    0.299248  2011-06-01T00:00:00.000+02:00    Renovable\n",
       "6   6.393820e+06    0.283416  2011-07-01T00:00:00.000+02:00    Renovable\n",
       "7   5.623992e+06    0.256745  2011-08-01T00:00:00.000+02:00    Renovable\n",
       "8   4.855773e+06    0.223844  2011-09-01T00:00:00.000+02:00    Renovable\n",
       "9   5.555985e+06    0.264890  2011-10-01T00:00:00.000+02:00    Renovable\n",
       "10  6.777688e+06    0.315372  2011-11-01T00:00:00.000+01:00    Renovable\n",
       "11  7.647076e+06    0.336896  2011-12-01T00:00:00.000+01:00    Renovable"
      ]
     },
     "execution_count": 59,
     "metadata": {},
     "output_type": "execute_result"
    }
   ],
   "source": [
    "renovables_2011"
   ]
  },
  {
   "cell_type": "code",
   "execution_count": 56,
   "metadata": {},
   "outputs": [
    {
     "data": {
      "text/plain": [
       "'Renovable'"
      ]
     },
     "execution_count": 56,
     "metadata": {},
     "output_type": "execute_result"
    }
   ],
   "source": [
    "res2_json['included'][0]['type']"
   ]
  },
  {
   "cell_type": "code",
   "execution_count": 61,
   "metadata": {},
   "outputs": [],
   "source": [
    "anos = ['2011', '2012', '2013', '2014', '2015', '2016', '2017', '2018', '2019', '2020', '2021', '2022']"
   ]
  },
  {
   "cell_type": "code",
   "execution_count": 62,
   "metadata": {},
   "outputs": [],
   "source": [
    "dicc = {}\n",
    "\n",
    "for ano in anos:\n",
    "\n",
    "    url = f'https://apidatos.ree.es/es/datos/generacion/evolucion-renovable-no-renovable?start_date={ano}-01-01T00:00&end_date={ano}-12-31T23:59&time_trunc=month&geo_trunc=electric_system&geo_limit=peninsular&geo_ids=8741'\n",
    "    response = requests.get(url=url)\n",
    "    response.status_code\n",
    "    response.reason\n",
    "    df = pd.DataFrame(response.json()['included'][0]['attributes']['values'])\n",
    "\n",
    "    dicc[ano] = df\n"
   ]
  },
  {
   "cell_type": "code",
   "execution_count": null,
   "metadata": {},
   "outputs": [],
   "source": [
    "dataframevacio = pd.DataFrame\n",
    "\n",
    "for ano in anos:\n",
    "\n",
    "    url = f'https://apidatos.ree.es/es/datos/generacion/evolucion-renovable-no-renovable?start_date={ano}-01-01T00:00&end_date={ano}-12-31T23:59&time_trunc=month&geo_trunc=electric_system&geo_limit=peninsular&geo_ids=8741'\n",
    "    response = requests.get(url=url)\n",
    "    response.status_code\n",
    "    response.reason\n",
    "    df = pd.DataFrame(response.json()['included'][0]['attributes']['values'])\n",
    "\n",
    "    dicc[ano] = df"
   ]
  },
  {
   "cell_type": "code",
   "execution_count": 64,
   "metadata": {},
   "outputs": [],
   "source": [
    "df_renovables = pd.concat(dicc.values(), axis = 0)"
   ]
  },
  {
   "cell_type": "code",
   "execution_count": 67,
   "metadata": {},
   "outputs": [
    {
     "data": {
      "text/html": [
       "<div>\n",
       "<style scoped>\n",
       "    .dataframe tbody tr th:only-of-type {\n",
       "        vertical-align: middle;\n",
       "    }\n",
       "\n",
       "    .dataframe tbody tr th {\n",
       "        vertical-align: top;\n",
       "    }\n",
       "\n",
       "    .dataframe thead th {\n",
       "        text-align: right;\n",
       "    }\n",
       "</style>\n",
       "<table border=\"1\" class=\"dataframe\">\n",
       "  <thead>\n",
       "    <tr style=\"text-align: right;\">\n",
       "      <th></th>\n",
       "      <th>value</th>\n",
       "      <th>percentage</th>\n",
       "      <th>datetime</th>\n",
       "      <th>tipo_energia</th>\n",
       "    </tr>\n",
       "  </thead>\n",
       "  <tbody>\n",
       "    <tr>\n",
       "      <th>0</th>\n",
       "      <td>9.877373e+06</td>\n",
       "      <td>0.400643</td>\n",
       "      <td>2011-01-01T00:00:00.000+01:00</td>\n",
       "      <td>Renovable</td>\n",
       "    </tr>\n",
       "    <tr>\n",
       "      <th>1</th>\n",
       "      <td>7.935272e+06</td>\n",
       "      <td>0.360597</td>\n",
       "      <td>2011-02-01T00:00:00.000+01:00</td>\n",
       "      <td>Renovable</td>\n",
       "    </tr>\n",
       "    <tr>\n",
       "      <th>2</th>\n",
       "      <td>9.547139e+06</td>\n",
       "      <td>0.400342</td>\n",
       "      <td>2011-03-01T00:00:00.000+01:00</td>\n",
       "      <td>Renovable</td>\n",
       "    </tr>\n",
       "    <tr>\n",
       "      <th>3</th>\n",
       "      <td>8.058827e+06</td>\n",
       "      <td>0.391932</td>\n",
       "      <td>2011-04-01T00:00:00.000+02:00</td>\n",
       "      <td>Renovable</td>\n",
       "    </tr>\n",
       "    <tr>\n",
       "      <th>4</th>\n",
       "      <td>7.192163e+06</td>\n",
       "      <td>0.348062</td>\n",
       "      <td>2011-05-01T00:00:00.000+02:00</td>\n",
       "      <td>Renovable</td>\n",
       "    </tr>\n",
       "    <tr>\n",
       "      <th>...</th>\n",
       "      <td>...</td>\n",
       "      <td>...</td>\n",
       "      <td>...</td>\n",
       "      <td>...</td>\n",
       "    </tr>\n",
       "    <tr>\n",
       "      <th>7</th>\n",
       "      <td>9.279522e+06</td>\n",
       "      <td>0.389224</td>\n",
       "      <td>2022-08-01T00:00:00.000+02:00</td>\n",
       "      <td>Renovable</td>\n",
       "    </tr>\n",
       "    <tr>\n",
       "      <th>8</th>\n",
       "      <td>8.686951e+06</td>\n",
       "      <td>0.388205</td>\n",
       "      <td>2022-09-01T00:00:00.000+02:00</td>\n",
       "      <td>Renovable</td>\n",
       "    </tr>\n",
       "    <tr>\n",
       "      <th>9</th>\n",
       "      <td>8.280235e+06</td>\n",
       "      <td>0.398536</td>\n",
       "      <td>2022-10-01T00:00:00.000+02:00</td>\n",
       "      <td>Renovable</td>\n",
       "    </tr>\n",
       "    <tr>\n",
       "      <th>10</th>\n",
       "      <td>9.907479e+06</td>\n",
       "      <td>0.482850</td>\n",
       "      <td>2022-11-01T00:00:00.000+01:00</td>\n",
       "      <td>Renovable</td>\n",
       "    </tr>\n",
       "    <tr>\n",
       "      <th>11</th>\n",
       "      <td>9.800160e+06</td>\n",
       "      <td>0.463801</td>\n",
       "      <td>2022-12-01T00:00:00.000+01:00</td>\n",
       "      <td>Renovable</td>\n",
       "    </tr>\n",
       "  </tbody>\n",
       "</table>\n",
       "<p>144 rows × 4 columns</p>\n",
       "</div>"
      ],
      "text/plain": [
       "           value  percentage                       datetime tipo_energia\n",
       "0   9.877373e+06    0.400643  2011-01-01T00:00:00.000+01:00    Renovable\n",
       "1   7.935272e+06    0.360597  2011-02-01T00:00:00.000+01:00    Renovable\n",
       "2   9.547139e+06    0.400342  2011-03-01T00:00:00.000+01:00    Renovable\n",
       "3   8.058827e+06    0.391932  2011-04-01T00:00:00.000+02:00    Renovable\n",
       "4   7.192163e+06    0.348062  2011-05-01T00:00:00.000+02:00    Renovable\n",
       "..           ...         ...                            ...          ...\n",
       "7   9.279522e+06    0.389224  2022-08-01T00:00:00.000+02:00    Renovable\n",
       "8   8.686951e+06    0.388205  2022-09-01T00:00:00.000+02:00    Renovable\n",
       "9   8.280235e+06    0.398536  2022-10-01T00:00:00.000+02:00    Renovable\n",
       "10  9.907479e+06    0.482850  2022-11-01T00:00:00.000+01:00    Renovable\n",
       "11  9.800160e+06    0.463801  2022-12-01T00:00:00.000+01:00    Renovable\n",
       "\n",
       "[144 rows x 4 columns]"
      ]
     },
     "execution_count": 67,
     "metadata": {},
     "output_type": "execute_result"
    }
   ],
   "source": [
    "df_renovables['tipo_energia'] = 'Renovable'\n",
    "df_renovables"
   ]
  },
  {
   "attachments": {},
   "cell_type": "markdown",
   "metadata": {},
   "source": [
    "crear df vacío\n",
    "\n",
    "año a año\n",
    "\n",
    "concatenar diccionario al df vacío"
   ]
  },
  {
   "attachments": {},
   "cell_type": "markdown",
   "metadata": {},
   "source": [
    "2. Sacaremos la misma información que en el ejericio anterior, pero en este caso por CCAA. Para esto necesitaremos los códigos de cada una de las comunidades autónomas que encontraréis en el siguiente diccionario:"
   ]
  },
  {
   "cell_type": "code",
   "execution_count": null,
   "metadata": {},
   "outputs": [],
   "source": [
    "cod_comunidades = {'Ceuta': 8744,\n",
    "                    'Melilla': 8745,\n",
    "                    'Andalucía': 4,\n",
    "                    'Aragón': 5,\n",
    "                    'Cantabria': 6,\n",
    "                    'Castilla - La Mancha': 7,\n",
    "                    'Castilla y León': 8,\n",
    "                    'Cataluña': 9,\n",
    "                    'País Vasco': 10,\n",
    "                    'Principado de Asturias': 11,\n",
    "                    'Comunidad de Madrid': 13,\n",
    "                    'Comunidad Foral de Navarra': 14,\n",
    "                    'Comunitat Valenciana': 15,\n",
    "                    'Extremadura': 16,\n",
    "                    'Galicia': 17,\n",
    "                    'Illes Balears': 8743,\n",
    "                    'Canarias': 8742,\n",
    "                    'Región de Murcia': 21,\n",
    "                    'La Rioja': 20}"
   ]
  },
  {
   "attachments": {},
   "cell_type": "markdown",
   "metadata": {},
   "source": [
    "3. Guardad los csv ya que mañana los seguiremos usando en los siguientes pairs"
   ]
  }
 ],
 "metadata": {
  "kernelspec": {
   "display_name": "base",
   "language": "python",
   "name": "python3"
  },
  "language_info": {
   "codemirror_mode": {
    "name": "ipython",
    "version": 3
   },
   "file_extension": ".py",
   "mimetype": "text/x-python",
   "name": "python",
   "nbconvert_exporter": "python",
   "pygments_lexer": "ipython3",
   "version": "3.9.7"
  },
  "orig_nbformat": 4
 },
 "nbformat": 4,
 "nbformat_minor": 2
}
