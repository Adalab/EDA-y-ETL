{
 "cells": [
  {
   "cell_type": "code",
   "execution_count": 4,
   "metadata": {},
   "outputs": [],
   "source": [
    "import requests\n",
    "import pandas as pd\n",
    "import numpy as np\n",
    "\n",
    "from datetime import datetime, timedelta"
   ]
  },
  {
   "attachments": {},
   "cell_type": "markdown",
   "metadata": {},
   "source": [
    "# Pair Programming ETL I\n",
    "\n",
    "1. Nuestros jefes están especialmente interesados en los datos de generación de las energías renovables y no renovables a nivel nacional. En concreto, nos piden sacar toda la información para las fechas de 1 de Enero del 2011 hasta el 31 de Diciembre del 2022. De toda la información que tenemos de generación queremos la evolucion de renovable y no renovable. Además deberemos incluir una columna nueva identificando si el dato corresponde a energía renovable o no renovable. NOTA: nos piden que el código debe estar en una función."
   ]
  },
  {
   "cell_type": "code",
   "execution_count": null,
   "metadata": {},
   "outputs": [],
   "source": [
    "def llamada_API_peninsula(año_inicio, año_final):\n",
    "    df_peninsula = pd.DataFrame()\n",
    "    \n",
    "    for i in range(año_inicio, (año_final + 1)):\n",
    "            \n",
    "            url1 = f'https://apidatos.ree.es/es/datos/generacion/evolucion-renovable-no-renovable?start_date={i}-01-01T00:00&end_date={i}-12-31T23:59&time_trunc=year&geo_trunc=electric_system&geo_limit=peninsular&geo_ids=8741'\n",
    "            response1 = requests.get(url=url1)\n",
    "            if response1.status_code != 200:\n",
    "                print(response1.reason, response1.status_code)\n",
    "                break\n",
    "            \n",
    "            for x in range(len(response1.json()['included'])):\n",
    "                df = pd.DataFrame(response1.json()['included'][x]['attributes']['values'])\n",
    "                df['tipo_energia'] = response1.json()['included'][x]['attributes']['title']\n",
    "                \n",
    "                df_peninsula = pd.concat([df_peninsula, df], axis=0)\n",
    "                \n",
    "    return df_peninsula"
   ]
  },
  {
   "cell_type": "code",
   "execution_count": null,
   "metadata": {},
   "outputs": [],
   "source": [
    "df_peninsula = llamada_API_peninsula(2011, 2022)"
   ]
  },
  {
   "cell_type": "code",
   "execution_count": null,
   "metadata": {},
   "outputs": [],
   "source": [
    "df_peninsula.sample()"
   ]
  },
  {
   "cell_type": "code",
   "execution_count": 40,
   "metadata": {},
   "outputs": [],
   "source": [
    "df_peninsula.to_csv('datos/energia_año_peninsula.csv')"
   ]
  },
  {
   "attachments": {},
   "cell_type": "markdown",
   "metadata": {},
   "source": [
    "2. Sacaremos la misma información que en el ejericio anterior, pero en este caso por CCAA. Para esto necesitaremos los códigos de cada una de las comunidades autónomas que encontraréis en el siguiente diccionario:"
   ]
  },
  {
   "cell_type": "code",
   "execution_count": 3,
   "metadata": {},
   "outputs": [],
   "source": [
    "cod_comunidades = {'Ceuta': 8744,\n",
    "                    'Melilla': 8745,\n",
    "                    'Andalucía': 4,\n",
    "                    'Aragón': 5,\n",
    "                    'Cantabria': 6,\n",
    "                    'Castilla - La Mancha': 7,\n",
    "                    'Castilla y León': 8,\n",
    "                    'Cataluña': 9,\n",
    "                    'País Vasco': 10,\n",
    "                    'Principado de Asturias': 11,\n",
    "                    'Comunidad de Madrid': 13,\n",
    "                    'Comunidad Foral de Navarra': 14,\n",
    "                    'Comunitat Valenciana': 15,\n",
    "                    'Extremadura': 16,\n",
    "                    'Galicia': 17,\n",
    "                    'Illes Balears': 8743,\n",
    "                    'Canarias': 8742,\n",
    "                    'Región de Murcia': 21,\n",
    "                    'La Rioja': 20}"
   ]
  },
  {
   "cell_type": "code",
   "execution_count": 27,
   "metadata": {},
   "outputs": [],
   "source": [
    "def llamar_api_ccaa(ano_inicio, ano_final, **dicc_ccaa,):\n",
    "    \n",
    "    df_final = pd.DataFrame()\n",
    "    \n",
    "    for i in range(ano_inicio, (ano_final + 1)):\n",
    "        \n",
    "        for k, v in dicc_ccaa.items():\n",
    "\n",
    "            url1 = f'https://apidatos.ree.es/es/datos/generacion/evolucion-renovable-no-renovable?start_date={i}-01-01T00:00&end_date={i}-12-31T23:59&time_trunc=year&geo_trunc=electric_system&geo_limit=ccaa&geo_ids={v}'\n",
    "            response1 = requests.get(url=url1)\n",
    "            if response1.status_code != 200:\n",
    "                print(response1.reason, response1.status_code)\n",
    "                break\n",
    "            \n",
    "            for x in range(len(response1.json()['included'])):\n",
    "                df = pd.DataFrame(response1.json()['included'][x]['attributes']['values'])\n",
    "                df['tipo_energia'] = response1.json()['included'][x]['attributes']['title']\n",
    "                df['comunidad'] = k\n",
    "                df['cod_comunidad'] = v\n",
    "                \n",
    "                df_final = pd.concat([df_final, df], axis=0)\n",
    "                 \n",
    "    return df_final"
   ]
  },
  {
   "cell_type": "code",
   "execution_count": 28,
   "metadata": {},
   "outputs": [],
   "source": [
    "energia_comunidades = llamar_api_ccaa(2011, 2023, **cod_comunidades)"
   ]
  },
  {
   "cell_type": "code",
   "execution_count": 29,
   "metadata": {},
   "outputs": [
    {
     "data": {
      "text/html": [
       "<div>\n",
       "<style scoped>\n",
       "    .dataframe tbody tr th:only-of-type {\n",
       "        vertical-align: middle;\n",
       "    }\n",
       "\n",
       "    .dataframe tbody tr th {\n",
       "        vertical-align: top;\n",
       "    }\n",
       "\n",
       "    .dataframe thead th {\n",
       "        text-align: right;\n",
       "    }\n",
       "</style>\n",
       "<table border=\"1\" class=\"dataframe\">\n",
       "  <thead>\n",
       "    <tr style=\"text-align: right;\">\n",
       "      <th></th>\n",
       "      <th>value</th>\n",
       "      <th>percentage</th>\n",
       "      <th>datetime</th>\n",
       "      <th>tipo_energia</th>\n",
       "      <th>comunidad</th>\n",
       "      <th>cod_comunidad</th>\n",
       "    </tr>\n",
       "  </thead>\n",
       "  <tbody>\n",
       "    <tr>\n",
       "      <th>0</th>\n",
       "      <td>1.178491e+06</td>\n",
       "      <td>0.163188</td>\n",
       "      <td>2011-01-01T00:00:00.000+01:00</td>\n",
       "      <td>Renovable</td>\n",
       "      <td>País Vasco</td>\n",
       "      <td>10</td>\n",
       "    </tr>\n",
       "  </tbody>\n",
       "</table>\n",
       "</div>"
      ],
      "text/plain": [
       "          value  percentage                       datetime tipo_energia  \\\n",
       "0  1.178491e+06    0.163188  2011-01-01T00:00:00.000+01:00    Renovable   \n",
       "\n",
       "    comunidad  cod_comunidad  \n",
       "0  País Vasco             10  "
      ]
     },
     "execution_count": 29,
     "metadata": {},
     "output_type": "execute_result"
    }
   ],
   "source": [
    "energia_comunidades.sample()"
   ]
  },
  {
   "attachments": {},
   "cell_type": "markdown",
   "metadata": {},
   "source": [
    "3. Guardad los csv ya que mañana los seguiremos usando en los siguientes pairs"
   ]
  },
  {
   "cell_type": "code",
   "execution_count": 36,
   "metadata": {},
   "outputs": [
    {
     "data": {
      "text/html": [
       "<div>\n",
       "<style scoped>\n",
       "    .dataframe tbody tr th:only-of-type {\n",
       "        vertical-align: middle;\n",
       "    }\n",
       "\n",
       "    .dataframe tbody tr th {\n",
       "        vertical-align: top;\n",
       "    }\n",
       "\n",
       "    .dataframe thead th {\n",
       "        text-align: right;\n",
       "    }\n",
       "</style>\n",
       "<table border=\"1\" class=\"dataframe\">\n",
       "  <thead>\n",
       "    <tr style=\"text-align: right;\">\n",
       "      <th></th>\n",
       "      <th>value</th>\n",
       "      <th>percentage</th>\n",
       "      <th>datetime</th>\n",
       "      <th>tipo_energia</th>\n",
       "      <th>comunidad</th>\n",
       "      <th>cod_comunidad</th>\n",
       "    </tr>\n",
       "  </thead>\n",
       "  <tbody>\n",
       "    <tr>\n",
       "      <th>0</th>\n",
       "      <td>8.583292e+07</td>\n",
       "      <td>0.324714</td>\n",
       "      <td>2011-01-01T00:00:00.000+01:00</td>\n",
       "      <td>Renovable</td>\n",
       "      <td>NaN</td>\n",
       "      <td>NaN</td>\n",
       "    </tr>\n",
       "    <tr>\n",
       "      <th>0</th>\n",
       "      <td>1.785007e+08</td>\n",
       "      <td>0.675286</td>\n",
       "      <td>2011-01-01T00:00:00.000+01:00</td>\n",
       "      <td>No renovable</td>\n",
       "      <td>NaN</td>\n",
       "      <td>NaN</td>\n",
       "    </tr>\n",
       "    <tr>\n",
       "      <th>0</th>\n",
       "      <td>8.446393e+07</td>\n",
       "      <td>0.314513</td>\n",
       "      <td>2012-01-01T00:00:00.000+01:00</td>\n",
       "      <td>Renovable</td>\n",
       "      <td>NaN</td>\n",
       "      <td>NaN</td>\n",
       "    </tr>\n",
       "    <tr>\n",
       "      <th>0</th>\n",
       "      <td>1.840909e+08</td>\n",
       "      <td>0.685487</td>\n",
       "      <td>2012-01-01T00:00:00.000+01:00</td>\n",
       "      <td>No renovable</td>\n",
       "      <td>NaN</td>\n",
       "      <td>NaN</td>\n",
       "    </tr>\n",
       "    <tr>\n",
       "      <th>0</th>\n",
       "      <td>1.088507e+08</td>\n",
       "      <td>0.418855</td>\n",
       "      <td>2013-01-01T00:00:00.000+01:00</td>\n",
       "      <td>Renovable</td>\n",
       "      <td>NaN</td>\n",
       "      <td>NaN</td>\n",
       "    </tr>\n",
       "    <tr>\n",
       "      <th>...</th>\n",
       "      <td>...</td>\n",
       "      <td>...</td>\n",
       "      <td>...</td>\n",
       "      <td>...</td>\n",
       "      <td>...</td>\n",
       "      <td>...</td>\n",
       "    </tr>\n",
       "    <tr>\n",
       "      <th>0</th>\n",
       "      <td>2.149877e+06</td>\n",
       "      <td>0.809786</td>\n",
       "      <td>2023-01-01T00:00:00.000+01:00</td>\n",
       "      <td>No renovable</td>\n",
       "      <td>Canarias</td>\n",
       "      <td>8742.0</td>\n",
       "    </tr>\n",
       "    <tr>\n",
       "      <th>0</th>\n",
       "      <td>1.969101e+05</td>\n",
       "      <td>0.326280</td>\n",
       "      <td>2023-01-01T00:00:00.000+01:00</td>\n",
       "      <td>Renovable</td>\n",
       "      <td>Región de Murcia</td>\n",
       "      <td>21.0</td>\n",
       "    </tr>\n",
       "    <tr>\n",
       "      <th>0</th>\n",
       "      <td>4.065906e+05</td>\n",
       "      <td>0.673720</td>\n",
       "      <td>2023-01-01T00:00:00.000+01:00</td>\n",
       "      <td>No renovable</td>\n",
       "      <td>Región de Murcia</td>\n",
       "      <td>21.0</td>\n",
       "    </tr>\n",
       "    <tr>\n",
       "      <th>0</th>\n",
       "      <td>1.312421e+05</td>\n",
       "      <td>0.499506</td>\n",
       "      <td>2023-01-01T00:00:00.000+01:00</td>\n",
       "      <td>Renovable</td>\n",
       "      <td>La Rioja</td>\n",
       "      <td>20.0</td>\n",
       "    </tr>\n",
       "    <tr>\n",
       "      <th>0</th>\n",
       "      <td>1.315018e+05</td>\n",
       "      <td>0.500494</td>\n",
       "      <td>2023-01-01T00:00:00.000+01:00</td>\n",
       "      <td>No renovable</td>\n",
       "      <td>La Rioja</td>\n",
       "      <td>20.0</td>\n",
       "    </tr>\n",
       "  </tbody>\n",
       "</table>\n",
       "<p>505 rows × 6 columns</p>\n",
       "</div>"
      ],
      "text/plain": [
       "           value  percentage                       datetime  tipo_energia  \\\n",
       "0   8.583292e+07    0.324714  2011-01-01T00:00:00.000+01:00     Renovable   \n",
       "0   1.785007e+08    0.675286  2011-01-01T00:00:00.000+01:00  No renovable   \n",
       "0   8.446393e+07    0.314513  2012-01-01T00:00:00.000+01:00     Renovable   \n",
       "0   1.840909e+08    0.685487  2012-01-01T00:00:00.000+01:00  No renovable   \n",
       "0   1.088507e+08    0.418855  2013-01-01T00:00:00.000+01:00     Renovable   \n",
       "..           ...         ...                            ...           ...   \n",
       "0   2.149877e+06    0.809786  2023-01-01T00:00:00.000+01:00  No renovable   \n",
       "0   1.969101e+05    0.326280  2023-01-01T00:00:00.000+01:00     Renovable   \n",
       "0   4.065906e+05    0.673720  2023-01-01T00:00:00.000+01:00  No renovable   \n",
       "0   1.312421e+05    0.499506  2023-01-01T00:00:00.000+01:00     Renovable   \n",
       "0   1.315018e+05    0.500494  2023-01-01T00:00:00.000+01:00  No renovable   \n",
       "\n",
       "           comunidad  cod_comunidad  \n",
       "0                NaN            NaN  \n",
       "0                NaN            NaN  \n",
       "0                NaN            NaN  \n",
       "0                NaN            NaN  \n",
       "0                NaN            NaN  \n",
       "..               ...            ...  \n",
       "0           Canarias         8742.0  \n",
       "0   Región de Murcia           21.0  \n",
       "0   Región de Murcia           21.0  \n",
       "0           La Rioja           20.0  \n",
       "0           La Rioja           20.0  \n",
       "\n",
       "[505 rows x 6 columns]"
      ]
     },
     "execution_count": 36,
     "metadata": {},
     "output_type": "execute_result"
    }
   ],
   "source": [
    "df_final = pd.concat([df_peninsula, energia_comunidades], join='outer', axis=0)\n",
    "df_final"
   ]
  },
  {
   "cell_type": "code",
   "execution_count": 75,
   "metadata": {},
   "outputs": [],
   "source": [
    "energia_comunidades.to_csv('datos/energia_comunidades.csv')"
   ]
  }
 ],
 "metadata": {
  "kernelspec": {
   "display_name": "base",
   "language": "python",
   "name": "python3"
  },
  "language_info": {
   "codemirror_mode": {
    "name": "ipython",
    "version": 3
   },
   "file_extension": ".py",
   "mimetype": "text/x-python",
   "name": "python",
   "nbconvert_exporter": "python",
   "pygments_lexer": "ipython3",
   "version": "3.9.7"
  },
  "orig_nbformat": 4
 },
 "nbformat": 4,
 "nbformat_minor": 2
}
