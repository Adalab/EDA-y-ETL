{
 "cells": [
  {
   "cell_type": "code",
   "execution_count": 1,
   "metadata": {},
   "outputs": [],
   "source": [
    "import requests\n",
    "import pandas as pd\n",
    "import numpy as np\n",
    "from datetime import datetime, timedelta\n",
    "import mysql.connector"
   ]
  },
  {
   "attachments": {},
   "cell_type": "markdown",
   "metadata": {},
   "source": [
    "# Pair Programming ETL Carga I\n",
    "\n",
    "1. Cread la BBDD con el nombre de energía. La BBDD tendrá la siguiente forma:\n",
    "\n",
    "- Tabla fechas\n",
    "\n",
    "- Tabla nacional_renovable_no_renovable\n",
    "\n",
    "- Tabla comunidades_renovable_no_renovable\n",
    "\n",
    "- Tabla comunidades"
   ]
  },
  {
   "cell_type": "code",
   "execution_count": 2,
   "metadata": {},
   "outputs": [],
   "source": [
    "df_ccaa = pd.read_csv('datos/energia_año_ccaa.csv', index_col=0)"
   ]
  },
  {
   "cell_type": "code",
   "execution_count": 3,
   "metadata": {},
   "outputs": [],
   "source": [
    "df_ccaa = pd.read_csv('datos/energia_año_peninsula.csv', index_col=0)"
   ]
  },
  {
   "cell_type": "code",
   "execution_count": 4,
   "metadata": {},
   "outputs": [],
   "source": [
    "def crear_bbdd(nombre_bbdd):\n",
    "\n",
    "    mydb = mysql.connector.connect(\n",
    "    host=\"localhost\",\n",
    "    user=\"root\",\n",
    "    password=\"AlumnaAdalab\", auth_plugin='mysql_native_password')\n",
    "                                    \n",
    "    print(\"Conexión realizada con éxito\")\n",
    "    \n",
    "    mycursor = mydb.cursor()\n",
    "\n",
    "    try:\n",
    "        mycursor.execute(f\"CREATE DATABASE IF NOT EXISTS {nombre_bbdd};\")\n",
    "        print(mycursor)\n",
    "    except mysql.connector.Error as err:\n",
    "        print(err)\n",
    "        print(\"Error Code:\", err.errno)\n",
    "        print(\"SQLSTATE\", err.sqlstate)\n",
    "        print(\"Message\", err.msg)\n"
   ]
  },
  {
   "cell_type": "code",
   "execution_count": 5,
   "metadata": {},
   "outputs": [
    {
     "name": "stdout",
     "output_type": "stream",
     "text": [
      "Conexión realizada con éxito\n",
      "MySQLCursor: CREATE DATABASE IF NOT EXISTS energia;\n"
     ]
    }
   ],
   "source": [
    "energia = crear_bbdd('energia')"
   ]
  },
  {
   "cell_type": "code",
   "execution_count": 6,
   "metadata": {},
   "outputs": [],
   "source": [
    "def crear_insertar_tabla(nombre_bbdd, contraseña, plugin, query):\n",
    "    \n",
    "    # nos conectamsos con el servidor usando el conector de sql\n",
    "    cnx = mysql.connector.connect(user='root', password=f\"{contraseña}\",\n",
    "                                     host='127.0.0.1', database=f\"{nombre_bbdd}\", auth_plugin = f'{plugin}')\n",
    "    # iniciamos el cursor\n",
    "    mycursor = cnx.cursor()\n",
    "    \n",
    "    # intentamos hacer la query\n",
    "    try: \n",
    "        mycursor.execute(query)\n",
    "        cnx.commit() \n",
    "    # en caso de que podamos ejecutar la query devuelvenos un error para saber en que nos estamos equivocando\n",
    "    except mysql.connector.Error as err:\n",
    "        print(err)\n",
    "        print(\"Error Code:\", err.errno)\n",
    "        print(\"SQLSTATE\", err.sqlstate)\n",
    "        print(\"Message\", err.msg)"
   ]
  },
  {
   "cell_type": "code",
   "execution_count": 7,
   "metadata": {},
   "outputs": [],
   "source": [
    "query_fecha = \"\"\"CREATE TABLE IF NOT EXISTS `energia`.`fechas` (\n",
    "  `idfechas` INT NOT NULL,\n",
    "  `fecha` DATE NOT NULL,\n",
    "  PRIMARY KEY (`idfechas`))\n",
    "ENGINE = InnoDB;\"\"\""
   ]
  },
  {
   "cell_type": "code",
   "execution_count": 8,
   "metadata": {},
   "outputs": [],
   "source": [
    "query_comunidades = \"\"\" CREATE TABLE IF NOT EXISTS `energia`.`comunidades` (\n",
    "  `idcomunidades` INT NOT NULL,\n",
    "  `comunidad` VARCHAR(45) NOT NULL,\n",
    "  PRIMARY KEY (`idcomunidades`))\n",
    "ENGINE = InnoDB;\"\"\""
   ]
  },
  {
   "cell_type": "code",
   "execution_count": 9,
   "metadata": {},
   "outputs": [],
   "source": [
    "query_nacional = \"\"\"CREATE TABLE IF NOT EXISTS `energia`.`nacional_renovable_no_renovable` (\n",
    "  `idnacional_renovable_no_renovable` INT NOT NULL,\n",
    "  `porcentaje` INT NOT NULL,\n",
    "  `tipo_energia` VARCHAR(45) NOT NULL,\n",
    "  `valor` DECIMAL NOT NULL,\n",
    "  `fechas_idfechas` INT NOT NULL,\n",
    "  PRIMARY KEY (`idnacional_renovable_no_renovable`),\n",
    "  INDEX `fk_nacional_renovable_no_renovable_fechas1_idx` (`fechas_idfechas` ASC) VISIBLE,\n",
    "  CONSTRAINT `fk_nacional_renovable_no_renovable_fechas1`\n",
    "    FOREIGN KEY (`fechas_idfechas`)\n",
    "    REFERENCES `energia`.`fechas` (`idfechas`)\n",
    "    ON DELETE NO ACTION\n",
    "    ON UPDATE NO ACTION)\n",
    "ENGINE = InnoDB;\"\"\""
   ]
  },
  {
   "cell_type": "code",
   "execution_count": 10,
   "metadata": {},
   "outputs": [],
   "source": [
    "query_comunidades_renovables_norenovables = \"\"\" CREATE TABLE IF NOT EXISTS `energia`.`comunidades_renovable_no_renovable` (\n",
    "  `idcomunidades_renovable_no_renovable` INT NOT NULL,\n",
    "  `porcentaje` INT NOT NULL,\n",
    "  `tipo_energia` VARCHAR(45) NOT NULL,\n",
    "  `valor` DECIMAL NOT NULL,\n",
    "  `fechas_idfechas` INT NOT NULL,\n",
    "  `comunidades_idcomunidades` INT NOT NULL,\n",
    "  PRIMARY KEY (`idcomunidades_renovable_no_renovable`),\n",
    "  INDEX `fk_comunidades_renovable_no_renovable_fechas1_idx` (`fechas_idfechas` ASC) VISIBLE,\n",
    "  INDEX `fk_comunidades_renovable_no_renovable_comunidades1_idx` (`comunidades_idcomunidades` ASC) VISIBLE,\n",
    "  CONSTRAINT `fk_comunidades_renovable_no_renovable_fechas1`\n",
    "    FOREIGN KEY (`fechas_idfechas`)\n",
    "    REFERENCES `energia`.`fechas` (`idfechas`)\n",
    "    ON DELETE NO ACTION\n",
    "    ON UPDATE NO ACTION,\n",
    "  CONSTRAINT `fk_comunidades_renovable_no_renovable_comunidades1`\n",
    "    FOREIGN KEY (`comunidades_idcomunidades`)\n",
    "    REFERENCES `energia`.`comunidades` (`idcomunidades`)\n",
    "    ON DELETE NO ACTION\n",
    "    ON UPDATE NO ACTION)\n",
    "ENGINE = InnoDB;\"\"\""
   ]
  },
  {
   "cell_type": "code",
   "execution_count": 11,
   "metadata": {},
   "outputs": [],
   "source": [
    "crear_insertar_tabla(\"energia\",\"AlumnaAdalab\", 'mysql_native_password', query_fecha)"
   ]
  },
  {
   "cell_type": "code",
   "execution_count": 12,
   "metadata": {},
   "outputs": [],
   "source": [
    "crear_insertar_tabla(\"energia\",\"AlumnaAdalab\", 'mysql_native_password', query_nacional)"
   ]
  },
  {
   "cell_type": "code",
   "execution_count": 13,
   "metadata": {},
   "outputs": [],
   "source": [
    "crear_insertar_tabla(\"energia\",\"AlumnaAdalab\", 'mysql_native_password', query_comunidades)"
   ]
  },
  {
   "cell_type": "code",
   "execution_count": 14,
   "metadata": {},
   "outputs": [],
   "source": [
    "crear_insertar_tabla(\"energia\",\"AlumnaAdalab\", 'mysql_native_password', query_comunidades_renovables_norenovables)"
   ]
  },
  {
   "attachments": {},
   "cell_type": "markdown",
   "metadata": {},
   "source": [
    "2. BONUS Insertar los datos en las tablas.\n",
    "\n",
    "📌 Nota Esta parte del pair es optativa y no será considerada para la evaluación"
   ]
  },
  {
   "cell_type": "code",
   "execution_count": 15,
   "metadata": {},
   "outputs": [
    {
     "data": {
      "text/html": [
       "<div>\n",
       "<style scoped>\n",
       "    .dataframe tbody tr th:only-of-type {\n",
       "        vertical-align: middle;\n",
       "    }\n",
       "\n",
       "    .dataframe tbody tr th {\n",
       "        vertical-align: top;\n",
       "    }\n",
       "\n",
       "    .dataframe thead th {\n",
       "        text-align: right;\n",
       "    }\n",
       "</style>\n",
       "<table border=\"1\" class=\"dataframe\">\n",
       "  <thead>\n",
       "    <tr style=\"text-align: right;\">\n",
       "      <th></th>\n",
       "      <th>value</th>\n",
       "      <th>percentage</th>\n",
       "      <th>datetime</th>\n",
       "      <th>tipo_energia</th>\n",
       "      <th>region</th>\n",
       "    </tr>\n",
       "  </thead>\n",
       "  <tbody>\n",
       "    <tr>\n",
       "      <th>0</th>\n",
       "      <td>1.001248e+08</td>\n",
       "      <td>0.4</td>\n",
       "      <td>2016-01-01</td>\n",
       "      <td>Renovable</td>\n",
       "      <td>Península</td>\n",
       "    </tr>\n",
       "  </tbody>\n",
       "</table>\n",
       "</div>"
      ],
      "text/plain": [
       "          value  percentage    datetime tipo_energia     region\n",
       "0  1.001248e+08         0.4  2016-01-01    Renovable  Península"
      ]
     },
     "execution_count": 15,
     "metadata": {},
     "output_type": "execute_result"
    }
   ],
   "source": [
    "df_ccaa.sample()"
   ]
  },
  {
   "cell_type": "code",
   "execution_count": 16,
   "metadata": {},
   "outputs": [
    {
     "name": "stdout",
     "output_type": "stream",
     "text": [
      "1364 (HY000): Field 'idfechas' doesn't have a default value\n",
      "Error Code: 1364\n",
      "SQLSTATE HY000\n",
      "Message Field 'idfechas' doesn't have a default value\n",
      "1364 (HY000): Field 'idfechas' doesn't have a default value\n",
      "Error Code: 1364\n",
      "SQLSTATE HY000\n",
      "Message Field 'idfechas' doesn't have a default value\n",
      "1364 (HY000): Field 'idfechas' doesn't have a default value\n",
      "Error Code: 1364\n",
      "SQLSTATE HY000\n",
      "Message Field 'idfechas' doesn't have a default value\n",
      "1364 (HY000): Field 'idfechas' doesn't have a default value\n",
      "Error Code: 1364\n",
      "SQLSTATE HY000\n",
      "Message Field 'idfechas' doesn't have a default value\n",
      "1364 (HY000): Field 'idfechas' doesn't have a default value\n",
      "Error Code: 1364\n",
      "SQLSTATE HY000\n",
      "Message Field 'idfechas' doesn't have a default value\n",
      "1364 (HY000): Field 'idfechas' doesn't have a default value\n",
      "Error Code: 1364\n",
      "SQLSTATE HY000\n",
      "Message Field 'idfechas' doesn't have a default value\n",
      "1364 (HY000): Field 'idfechas' doesn't have a default value\n",
      "Error Code: 1364\n",
      "SQLSTATE HY000\n",
      "Message Field 'idfechas' doesn't have a default value\n",
      "1364 (HY000): Field 'idfechas' doesn't have a default value\n",
      "Error Code: 1364\n",
      "SQLSTATE HY000\n",
      "Message Field 'idfechas' doesn't have a default value\n",
      "1364 (HY000): Field 'idfechas' doesn't have a default value\n",
      "Error Code: 1364\n",
      "SQLSTATE HY000\n",
      "Message Field 'idfechas' doesn't have a default value\n",
      "1364 (HY000): Field 'idfechas' doesn't have a default value\n",
      "Error Code: 1364\n",
      "SQLSTATE HY000\n",
      "Message Field 'idfechas' doesn't have a default value\n",
      "1364 (HY000): Field 'idfechas' doesn't have a default value\n",
      "Error Code: 1364\n",
      "SQLSTATE HY000\n",
      "Message Field 'idfechas' doesn't have a default value\n",
      "1364 (HY000): Field 'idfechas' doesn't have a default value\n",
      "Error Code: 1364\n",
      "SQLSTATE HY000\n",
      "Message Field 'idfechas' doesn't have a default value\n",
      "1364 (HY000): Field 'idfechas' doesn't have a default value\n",
      "Error Code: 1364\n",
      "SQLSTATE HY000\n",
      "Message Field 'idfechas' doesn't have a default value\n",
      "1364 (HY000): Field 'idfechas' doesn't have a default value\n",
      "Error Code: 1364\n",
      "SQLSTATE HY000\n",
      "Message Field 'idfechas' doesn't have a default value\n",
      "1364 (HY000): Field 'idfechas' doesn't have a default value\n",
      "Error Code: 1364\n",
      "SQLSTATE HY000\n",
      "Message Field 'idfechas' doesn't have a default value\n",
      "1364 (HY000): Field 'idfechas' doesn't have a default value\n",
      "Error Code: 1364\n",
      "SQLSTATE HY000\n",
      "Message Field 'idfechas' doesn't have a default value\n",
      "1364 (HY000): Field 'idfechas' doesn't have a default value\n",
      "Error Code: 1364\n",
      "SQLSTATE HY000\n",
      "Message Field 'idfechas' doesn't have a default value\n",
      "1364 (HY000): Field 'idfechas' doesn't have a default value\n",
      "Error Code: 1364\n",
      "SQLSTATE HY000\n",
      "Message Field 'idfechas' doesn't have a default value\n",
      "1364 (HY000): Field 'idfechas' doesn't have a default value\n",
      "Error Code: 1364\n",
      "SQLSTATE HY000\n",
      "Message Field 'idfechas' doesn't have a default value\n",
      "1364 (HY000): Field 'idfechas' doesn't have a default value\n",
      "Error Code: 1364\n",
      "SQLSTATE HY000\n",
      "Message Field 'idfechas' doesn't have a default value\n",
      "1364 (HY000): Field 'idfechas' doesn't have a default value\n",
      "Error Code: 1364\n",
      "SQLSTATE HY000\n",
      "Message Field 'idfechas' doesn't have a default value\n",
      "1364 (HY000): Field 'idfechas' doesn't have a default value\n",
      "Error Code: 1364\n",
      "SQLSTATE HY000\n",
      "Message Field 'idfechas' doesn't have a default value\n",
      "1364 (HY000): Field 'idfechas' doesn't have a default value\n",
      "Error Code: 1364\n",
      "SQLSTATE HY000\n",
      "Message Field 'idfechas' doesn't have a default value\n",
      "1364 (HY000): Field 'idfechas' doesn't have a default value\n",
      "Error Code: 1364\n",
      "SQLSTATE HY000\n",
      "Message Field 'idfechas' doesn't have a default value\n"
     ]
    }
   ],
   "source": [
    "for indice, fila in df_ccaa.iterrows():\n",
    "\n",
    "    query_date_time = f\"\"\"INSERT INTO fechas (fecha)  \n",
    "        VALUES ('{fila[\"datetime\"]}');\"\"\"\n",
    "    \n",
    "    crear_insertar_tabla(\"energia\", \"AlumnaAdalab\", 'mysql_native_password', query_date_time)"
   ]
  }
 ],
 "metadata": {
  "kernelspec": {
   "display_name": "base",
   "language": "python",
   "name": "python3"
  },
  "language_info": {
   "codemirror_mode": {
    "name": "ipython",
    "version": 3
   },
   "file_extension": ".py",
   "mimetype": "text/x-python",
   "name": "python",
   "nbconvert_exporter": "python",
   "pygments_lexer": "ipython3",
   "version": "3.9.7"
  },
  "orig_nbformat": 4
 },
 "nbformat": 4,
 "nbformat_minor": 2
}
