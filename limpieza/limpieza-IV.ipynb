{
 "cells": [
  {
   "cell_type": "code",
   "execution_count": 1,
   "metadata": {},
   "outputs": [],
   "source": [
    "import pandas as pd\n",
    "import seaborn as sns\n",
    "import matplotlib.pyplot as plt\n",
    "import numpy as np"
   ]
  },
  {
   "cell_type": "code",
   "execution_count": 2,
   "metadata": {},
   "outputs": [],
   "source": [
    "pd.options.display.max_columns = None"
   ]
  },
  {
   "attachments": {},
   "cell_type": "markdown",
   "metadata": {},
   "source": [
    "# Pair Programming Limpieza IV\n",
    "\n",
    "Hipótesis\n",
    "1. La edad, el trabajo, el estado civil, la educación, la situación de deuda y la forma de contacto pueden influir en la probabilidad de que un cliente acepte la oferta.\n",
    "2. El número de veces que se ha contactado a un cliente en el pasado (campo campaign), el número de días que han pasado desde el último contacto (campo pdays), y el resultado de la campaña anterior (campo poutcome) pueden afectar la respuesta del cliente a una nueva oferta.\n",
    "3. Las variables económicas (tales como el índice de precios al consumidor (cons.price.idx), la tasa de variación del empleo (emp.var.rate), etc.) pueden influir en la probabilidad de que un cliente acepte la oferta.\n",
    "4. Los clientes que ya tienen una hipoteca (housing) o un préstamo (loan) pueden ser menos propensos a aceptar una nueva oferta, ya que podrían estar limitados financieramente."
   ]
  },
  {
   "attachments": {},
   "cell_type": "markdown",
   "metadata": {},
   "source": [
    "Es el momento de ponernos a trabajar con los valores nulos 💪🏽. A lo largo de este ejercicio de pair programming vamos a intentar eliminar los valores nulos de nuestras columnas. En la lección hemos aprendido varios métodos, nosotras os planteamos los ejercicios pero sentiros libres de usar el método que más se adapte a vuestras necesidades. Manos a la obra!\n",
    "\n",
    "1. Lo primero que tenemos que evaluar es en que columnas tenemos nulos y que cantidad tenemos en cada una. ¿Hay alguna columna con una gran cantidad de nulos? En caso de que sea así deberemos eliminarla."
   ]
  },
  {
   "cell_type": "code",
   "execution_count": 72,
   "metadata": {},
   "outputs": [],
   "source": [
    "df = pd.read_csv(\"datos/bank_additional_sin_outliers.csv\", index_col = 0)"
   ]
  },
  {
   "cell_type": "code",
   "execution_count": 4,
   "metadata": {},
   "outputs": [
    {
     "data": {
      "text/html": [
       "<div>\n",
       "<style scoped>\n",
       "    .dataframe tbody tr th:only-of-type {\n",
       "        vertical-align: middle;\n",
       "    }\n",
       "\n",
       "    .dataframe tbody tr th {\n",
       "        vertical-align: top;\n",
       "    }\n",
       "\n",
       "    .dataframe thead th {\n",
       "        text-align: right;\n",
       "    }\n",
       "</style>\n",
       "<table border=\"1\" class=\"dataframe\">\n",
       "  <thead>\n",
       "    <tr style=\"text-align: right;\">\n",
       "      <th></th>\n",
       "      <th>columna</th>\n",
       "      <th>porcentaje</th>\n",
       "    </tr>\n",
       "  </thead>\n",
       "  <tbody>\n",
       "    <tr>\n",
       "      <th>0</th>\n",
       "      <td>age</td>\n",
       "      <td>0.000000</td>\n",
       "    </tr>\n",
       "    <tr>\n",
       "      <th>1</th>\n",
       "      <td>job</td>\n",
       "      <td>0.801438</td>\n",
       "    </tr>\n",
       "    <tr>\n",
       "      <th>2</th>\n",
       "      <td>marital</td>\n",
       "      <td>0.194288</td>\n",
       "    </tr>\n",
       "    <tr>\n",
       "      <th>3</th>\n",
       "      <td>education</td>\n",
       "      <td>4.201477</td>\n",
       "    </tr>\n",
       "    <tr>\n",
       "      <th>4</th>\n",
       "      <td>default</td>\n",
       "      <td>20.876239</td>\n",
       "    </tr>\n",
       "    <tr>\n",
       "      <th>5</th>\n",
       "      <td>housing</td>\n",
       "      <td>2.404313</td>\n",
       "    </tr>\n",
       "    <tr>\n",
       "      <th>6</th>\n",
       "      <td>loan</td>\n",
       "      <td>2.404313</td>\n",
       "    </tr>\n",
       "    <tr>\n",
       "      <th>7</th>\n",
       "      <td>contact</td>\n",
       "      <td>0.000000</td>\n",
       "    </tr>\n",
       "    <tr>\n",
       "      <th>8</th>\n",
       "      <td>duration</td>\n",
       "      <td>0.000000</td>\n",
       "    </tr>\n",
       "    <tr>\n",
       "      <th>9</th>\n",
       "      <td>campaign</td>\n",
       "      <td>0.000000</td>\n",
       "    </tr>\n",
       "    <tr>\n",
       "      <th>10</th>\n",
       "      <td>pdays</td>\n",
       "      <td>0.000000</td>\n",
       "    </tr>\n",
       "    <tr>\n",
       "      <th>11</th>\n",
       "      <td>previous</td>\n",
       "      <td>0.000000</td>\n",
       "    </tr>\n",
       "    <tr>\n",
       "      <th>12</th>\n",
       "      <td>poutcome</td>\n",
       "      <td>0.000000</td>\n",
       "    </tr>\n",
       "    <tr>\n",
       "      <th>13</th>\n",
       "      <td>emp_var_rate</td>\n",
       "      <td>0.000000</td>\n",
       "    </tr>\n",
       "    <tr>\n",
       "      <th>14</th>\n",
       "      <td>cons_price_idx</td>\n",
       "      <td>0.000000</td>\n",
       "    </tr>\n",
       "    <tr>\n",
       "      <th>15</th>\n",
       "      <td>cons_conf_idx</td>\n",
       "      <td>0.000000</td>\n",
       "    </tr>\n",
       "    <tr>\n",
       "      <th>16</th>\n",
       "      <td>euribor3m</td>\n",
       "      <td>0.000000</td>\n",
       "    </tr>\n",
       "    <tr>\n",
       "      <th>17</th>\n",
       "      <td>nr_employed</td>\n",
       "      <td>0.000000</td>\n",
       "    </tr>\n",
       "    <tr>\n",
       "      <th>18</th>\n",
       "      <td>y</td>\n",
       "      <td>0.000000</td>\n",
       "    </tr>\n",
       "    <tr>\n",
       "      <th>19</th>\n",
       "      <td>month_day_week</td>\n",
       "      <td>0.000000</td>\n",
       "    </tr>\n",
       "    <tr>\n",
       "      <th>20</th>\n",
       "      <td>month</td>\n",
       "      <td>0.000000</td>\n",
       "    </tr>\n",
       "    <tr>\n",
       "      <th>21</th>\n",
       "      <td>day</td>\n",
       "      <td>0.000000</td>\n",
       "    </tr>\n",
       "  </tbody>\n",
       "</table>\n",
       "</div>"
      ],
      "text/plain": [
       "           columna  porcentaje\n",
       "0              age    0.000000\n",
       "1              job    0.801438\n",
       "2          marital    0.194288\n",
       "3        education    4.201477\n",
       "4          default   20.876239\n",
       "5          housing    2.404313\n",
       "6             loan    2.404313\n",
       "7          contact    0.000000\n",
       "8         duration    0.000000\n",
       "9         campaign    0.000000\n",
       "10           pdays    0.000000\n",
       "11        previous    0.000000\n",
       "12        poutcome    0.000000\n",
       "13    emp_var_rate    0.000000\n",
       "14  cons_price_idx    0.000000\n",
       "15   cons_conf_idx    0.000000\n",
       "16       euribor3m    0.000000\n",
       "17     nr_employed    0.000000\n",
       "18               y    0.000000\n",
       "19  month_day_week    0.000000\n",
       "20           month    0.000000\n",
       "21             day    0.000000"
      ]
     },
     "execution_count": 4,
     "metadata": {},
     "output_type": "execute_result"
    }
   ],
   "source": [
    "df_nulos = ((df.isnull().sum() * 100/ df.shape[0])).reset_index()\n",
    "df_nulos.columns = ['columna', 'porcentaje']\n",
    "df_nulos"
   ]
  },
  {
   "cell_type": "code",
   "execution_count": 5,
   "metadata": {},
   "outputs": [],
   "source": [
    "df_sin_default = df.copy()"
   ]
  },
  {
   "cell_type": "code",
   "execution_count": 19,
   "metadata": {},
   "outputs": [
    {
     "data": {
      "text/html": [
       "<div>\n",
       "<style scoped>\n",
       "    .dataframe tbody tr th:only-of-type {\n",
       "        vertical-align: middle;\n",
       "    }\n",
       "\n",
       "    .dataframe tbody tr th {\n",
       "        vertical-align: top;\n",
       "    }\n",
       "\n",
       "    .dataframe thead th {\n",
       "        text-align: right;\n",
       "    }\n",
       "</style>\n",
       "<table border=\"1\" class=\"dataframe\">\n",
       "  <thead>\n",
       "    <tr style=\"text-align: right;\">\n",
       "      <th></th>\n",
       "      <th>age</th>\n",
       "      <th>job</th>\n",
       "      <th>marital</th>\n",
       "      <th>education</th>\n",
       "      <th>housing</th>\n",
       "      <th>loan</th>\n",
       "      <th>contact</th>\n",
       "      <th>duration</th>\n",
       "      <th>campaign</th>\n",
       "      <th>pdays</th>\n",
       "      <th>previous</th>\n",
       "      <th>poutcome</th>\n",
       "      <th>emp_var_rate</th>\n",
       "      <th>cons_price_idx</th>\n",
       "      <th>cons_conf_idx</th>\n",
       "      <th>euribor3m</th>\n",
       "      <th>nr_employed</th>\n",
       "      <th>y</th>\n",
       "      <th>month_day_week</th>\n",
       "      <th>month</th>\n",
       "      <th>day</th>\n",
       "    </tr>\n",
       "  </thead>\n",
       "  <tbody>\n",
       "    <tr>\n",
       "      <th>30740</th>\n",
       "      <td>34</td>\n",
       "      <td>blue-collar</td>\n",
       "      <td>married</td>\n",
       "      <td>NaN</td>\n",
       "      <td>si</td>\n",
       "      <td>no</td>\n",
       "      <td>cellular</td>\n",
       "      <td>163</td>\n",
       "      <td>1</td>\n",
       "      <td>999</td>\n",
       "      <td>0</td>\n",
       "      <td>FAILURE</td>\n",
       "      <td>-1.8</td>\n",
       "      <td>92.893</td>\n",
       "      <td>-46.2</td>\n",
       "      <td>1.344</td>\n",
       "      <td>5099.1</td>\n",
       "      <td>no</td>\n",
       "      <td>['may', 'tue']</td>\n",
       "      <td>may</td>\n",
       "      <td>tue</td>\n",
       "    </tr>\n",
       "  </tbody>\n",
       "</table>\n",
       "</div>"
      ],
      "text/plain": [
       "       age          job  marital education housing loan   contact  duration  \\\n",
       "30740   34  blue-collar  married       NaN      si   no  cellular       163   \n",
       "\n",
       "       campaign  pdays  previous poutcome  emp_var_rate  cons_price_idx  \\\n",
       "30740         1    999         0  FAILURE          -1.8          92.893   \n",
       "\n",
       "       cons_conf_idx  euribor3m  nr_employed   y  month_day_week month  day  \n",
       "30740          -46.2      1.344       5099.1  no  ['may', 'tue']   may  tue  "
      ]
     },
     "execution_count": 19,
     "metadata": {},
     "output_type": "execute_result"
    }
   ],
   "source": [
    "# la columna 'default' tiene la proporcion de nulos mas alto del dataframe con un 20%. \n",
    "# Aunque no nos parece una cantidad suficientemente alta para eliminar la columna entera, \n",
    "# lo vamos a hacer en una copia del dataframe para practicar.\n",
    "\n",
    "df_sin_default.drop(columns=['default'], inplace=True)\n",
    "df_sin_default.sample()\n",
    "\n"
   ]
  },
  {
   "attachments": {},
   "cell_type": "markdown",
   "metadata": {},
   "source": [
    "2. Es el momento de eliminar los nulos:\n",
    "- Reemplazad los valores nulos de la columna age por la media de la edad, redondeada a dos decimales."
   ]
  },
  {
   "cell_type": "code",
   "execution_count": 48,
   "metadata": {},
   "outputs": [],
   "source": [
    "# el codigo se escribe asi pero no hay nulos en la columna 'age' asi que no va a hacer nada\n",
    "df['age'].fillna(round(df['age'].mean(), 2), inplace=True)"
   ]
  },
  {
   "attachments": {},
   "cell_type": "markdown",
   "metadata": {},
   "source": [
    "- Reemplazad los valores nulos de la columna duration por la mediana de la edad, redondeada a dos decimales."
   ]
  },
  {
   "cell_type": "code",
   "execution_count": null,
   "metadata": {},
   "outputs": [],
   "source": [
    "# el codigo se escribe asi pero no hay nulos en la columna 'duration' asi que no va a hacer nada\n",
    "df['duration'].fillna(round(df['age'].median(), 2), inplace=True)"
   ]
  },
  {
   "attachments": {},
   "cell_type": "markdown",
   "metadata": {},
   "source": [
    "- En relación a las columnas de education, default, housing y loan al tratarse de columnas de tipo categórica, reemplazad los valores nulos por una nueva categória que se llame unknown."
   ]
  },
  {
   "cell_type": "code",
   "execution_count": 51,
   "metadata": {},
   "outputs": [
    {
     "name": "stdout",
     "output_type": "stream",
     "text": [
      "valores unicos de education: ['basic 4y' 'high school' 'basic 6y' 'basic 9y' 'professional course'\n",
      " 'Unknown' 'university degree' 'illiterate']\n",
      "valores unicos de housing: ['no' 'si' 'Unknown']\n",
      "valores unicos de loan: ['no' 'si' 'Unknown']\n"
     ]
    }
   ],
   "source": [
    "for col in ['education', 'housing', 'loan']:\n",
    "    df[col].replace(np.nan, 'Unknown', inplace=True)\n",
    "    print(f\"valores unicos de {col}: {df[col].unique()}\")\n"
   ]
  },
  {
   "attachments": {},
   "cell_type": "markdown",
   "metadata": {},
   "source": [
    "- Reemplazad los valores nulos de las columna job y marital por el valor más frecuente (la moda)."
   ]
  },
  {
   "cell_type": "code",
   "execution_count": 73,
   "metadata": {},
   "outputs": [
    {
     "name": "stdout",
     "output_type": "stream",
     "text": [
      "value counts de job antes de reemplazar: administration    10419\n",
      "blue-collar        9253\n",
      "technician         6739\n",
      "services           3967\n",
      "management         2924\n",
      "retired            1718\n",
      "entrepreneur       1456\n",
      "self-employed      1421\n",
      "housemaid          1060\n",
      "unemployed         1014\n",
      "student             875\n",
      "Name: job, dtype: int64\n",
      "-------------\n",
      "value counts de job despues de reemplazar nulos por la moda 'administration': administration    10749\n",
      "blue-collar        9253\n",
      "technician         6739\n",
      "services           3967\n",
      "management         2924\n",
      "retired            1718\n",
      "entrepreneur       1456\n",
      "self-employed      1421\n",
      "housemaid          1060\n",
      "unemployed         1014\n",
      "student             875\n",
      "Name: job, dtype: int64\n",
      "-------------\n",
      "value counts de marital antes de reemplazar: married     24921\n",
      "single      11564\n",
      "divorced     4611\n",
      "Name: marital, dtype: int64\n",
      "-------------\n",
      "value counts de marital despues de reemplazar nulos por la moda 'married': married     25001\n",
      "single      11564\n",
      "divorced     4611\n",
      "Name: marital, dtype: int64\n",
      "-------------\n"
     ]
    }
   ],
   "source": [
    "for col in ['job', 'marital']:\n",
    "    print(f\"value counts de {col} antes de reemplazar: {df[col].value_counts()}\")\n",
    "    print('-------------')\n",
    "    df[col].fillna(df[col].mode()[0], inplace=True)\n",
    "    print(f\"value counts de {col} despues de reemplazar nulos por la moda '{df[col].mode()[0]}': {df[col].value_counts()}\")\n",
    "    print('-------------')"
   ]
  },
  {
   "attachments": {},
   "cell_type": "markdown",
   "metadata": {},
   "source": [
    "3. Guardad el csv."
   ]
  },
  {
   "cell_type": "code",
   "execution_count": 74,
   "metadata": {},
   "outputs": [],
   "source": [
    "df.to_csv('datos/bank-additional-sin-outliers-nulos.csv')"
   ]
  }
 ],
 "metadata": {
  "kernelspec": {
   "display_name": "base",
   "language": "python",
   "name": "python3"
  },
  "language_info": {
   "codemirror_mode": {
    "name": "ipython",
    "version": 3
   },
   "file_extension": ".py",
   "mimetype": "text/x-python",
   "name": "python",
   "nbconvert_exporter": "python",
   "pygments_lexer": "ipython3",
   "version": "3.9.7"
  },
  "orig_nbformat": 4
 },
 "nbformat": 4,
 "nbformat_minor": 2
}
